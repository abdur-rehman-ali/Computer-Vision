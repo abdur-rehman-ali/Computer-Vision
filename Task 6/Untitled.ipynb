{
 "cells": [
  {
   "cell_type": "code",
   "execution_count": 14,
   "id": "18166101",
   "metadata": {},
   "outputs": [],
   "source": [
    "import cv2 as cv\n",
    "import numpy as np"
   ]
  },
  {
   "cell_type": "markdown",
   "id": "e5e70dbc",
   "metadata": {},
   "source": [
    "<h1>Image read , write and show </h1>"
   ]
  },
  {
   "cell_type": "code",
   "execution_count": 12,
   "id": "3c6b7118",
   "metadata": {},
   "outputs": [],
   "source": [
    "img = cv.imread(\"layer-mask.jpg\",cv.IMREAD_COLOR)\n",
    "img = cv.imread(\"layer-mask.jpg\",cv.IMREAD_GRAYSCALE)\n",
    "\n",
    "cv.imshow(\"image\",img)\n",
    "cv.imwrite(\"grey.jpg\",img)\n",
    "\n",
    "cv.waitKey(0)\n",
    "cv.destroyAllWindows()"
   ]
  },
  {
   "cell_type": "markdown",
   "id": "80e2b58c",
   "metadata": {},
   "source": [
    "<h1>Geometric shapes</h1>"
   ]
  },
  {
   "cell_type": "code",
   "execution_count": 51,
   "id": "822287d7",
   "metadata": {},
   "outputs": [],
   "source": [
    "img = np.zeros([500,500,3],dtype=np.uint8)\n",
    "\n",
    "#Straight line\n",
    "cv.line(img,(30,30),(360,30),(255,0,0),5,cv.LINE_AA)\n",
    "\n",
    "#Arrowed line\n",
    "cv.arrowedLine(img,(30,60),(360,60),(0,255,0),5,cv.LINE_AA)\n",
    "\n",
    "#circle\n",
    "cv.circle(img,(200,100),26,(0,0,255),5,cv.LINE_4)\n",
    "\n",
    "#Ellipse\n",
    "cv.ellipse(img,(200,200),(100,60),0,0,360,(255,0,0),5,cv.LINE_8)\n",
    "\n",
    "#Rectangle\n",
    "cv.rectangle(img,(100,300),(400,400),(255,0,0),5,cv.LINE_8)\n",
    "\n",
    "#Put text on image\n",
    "cv.putText(img,\"ALI JOIYA\",(100,450),cv.FONT_HERSHEY_COMPLEX,1,(255,0,0),3,cv.LINE_4)\n",
    "\n",
    "cv.imshow(\"image\",img)\n",
    "\n",
    "cv.waitKey(0)\n",
    "cv.destroyAllWindows()"
   ]
  },
  {
   "cell_type": "markdown",
   "id": "3d9b51ab",
   "metadata": {},
   "source": [
    "<h1>Read , write and show video from camera</h1>"
   ]
  },
  {
   "cell_type": "code",
   "execution_count": null,
   "id": "36a75a2b",
   "metadata": {},
   "outputs": [],
   "source": []
  }
 ],
 "metadata": {
  "kernelspec": {
   "display_name": "Python 3",
   "language": "python",
   "name": "python3"
  },
  "language_info": {
   "codemirror_mode": {
    "name": "ipython",
    "version": 3
   },
   "file_extension": ".py",
   "mimetype": "text/x-python",
   "name": "python",
   "nbconvert_exporter": "python",
   "pygments_lexer": "ipython3",
   "version": "3.9.5"
  }
 },
 "nbformat": 4,
 "nbformat_minor": 5
}
