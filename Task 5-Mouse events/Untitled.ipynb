{
 "cells": [
  {
   "cell_type": "markdown",
   "id": "fc1b2e3b",
   "metadata": {},
   "source": [
    "<h1>Mouse click events</h1>"
   ]
  },
  {
   "cell_type": "code",
   "execution_count": 4,
   "id": "19ad0784",
   "metadata": {},
   "outputs": [],
   "source": [
    "import cv2 as cv\n",
    "import numpy as np"
   ]
  },
  {
   "cell_type": "code",
   "execution_count": 3,
   "id": "666b6d18",
   "metadata": {},
   "outputs": [
    {
     "name": "stdout",
     "output_type": "stream",
     "text": [
      "EVENT_FLAG_ALTKEY\n",
      "EVENT_FLAG_CTRLKEY\n",
      "EVENT_FLAG_LBUTTON\n",
      "EVENT_FLAG_MBUTTON\n",
      "EVENT_FLAG_RBUTTON\n",
      "EVENT_FLAG_SHIFTKEY\n",
      "EVENT_LBUTTONDBLCLK\n",
      "EVENT_LBUTTONDOWN\n",
      "EVENT_LBUTTONUP\n",
      "EVENT_MBUTTONDBLCLK\n",
      "EVENT_MBUTTONDOWN\n",
      "EVENT_MBUTTONUP\n",
      "EVENT_MOUSEHWHEEL\n",
      "EVENT_MOUSEMOVE\n",
      "EVENT_MOUSEWHEEL\n",
      "EVENT_RBUTTONDBLCLK\n",
      "EVENT_RBUTTONDOWN\n",
      "EVENT_RBUTTONUP\n"
     ]
    }
   ],
   "source": [
    "for i in dir(cv):\n",
    "    if 'EVENT' in i:\n",
    "        print(i)"
   ]
  },
  {
   "cell_type": "code",
   "execution_count": 9,
   "id": "59f30342",
   "metadata": {},
   "outputs": [],
   "source": [
    "def click_events(event,x,y,flags,params):\n",
    "    #Left button down\n",
    "    if event==cv.EVENT_LBUTTONDOWN:\n",
    "        text = str(x) + \" , \" + str(y)\n",
    "        org=(x,y)\n",
    "        font=cv.FONT_HERSHEY_COMPLEX\n",
    "        font_scale=0.5\n",
    "        color = (255,0,0)\n",
    "        thickness= 1\n",
    "        line_type = cv.LINE_AA\n",
    "        cv.putText(img,text,org,font,font_scale,color,thickness,line_type)\n",
    "        cv.imshow(\"image\",img)\n",
    "        \n",
    "img = np.ones((512,512,3),np.uint8)\n",
    "cv.imshow(\"image\",img)\n",
    "cv.setMouseCallback(\"image\",click_events)\n",
    "\n",
    "cv.waitKey(0) & 0xFF == ord('q')\n",
    "\n",
    "\n",
    "cv.destroyAllWindows()"
   ]
  },
  {
   "cell_type": "code",
   "execution_count": null,
   "id": "65af1a33",
   "metadata": {},
   "outputs": [],
   "source": []
  }
 ],
 "metadata": {
  "kernelspec": {
   "display_name": "Python 3",
   "language": "python",
   "name": "python3"
  },
  "language_info": {
   "codemirror_mode": {
    "name": "ipython",
    "version": 3
   },
   "file_extension": ".py",
   "mimetype": "text/x-python",
   "name": "python",
   "nbconvert_exporter": "python",
   "pygments_lexer": "ipython3",
   "version": "3.9.5"
  }
 },
 "nbformat": 4,
 "nbformat_minor": 5
}
