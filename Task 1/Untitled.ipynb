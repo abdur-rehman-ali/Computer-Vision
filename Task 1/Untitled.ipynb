{
 "cells": [
  {
   "cell_type": "markdown",
   "id": "11558c64",
   "metadata": {},
   "source": [
    "<h1>Read,write and store images in openCV</h1>"
   ]
  },
  {
   "cell_type": "code",
   "execution_count": 4,
   "id": "50d630b9",
   "metadata": {},
   "outputs": [],
   "source": [
    "import cv2"
   ]
  },
  {
   "cell_type": "code",
   "execution_count": 5,
   "id": "047d2830",
   "metadata": {},
   "outputs": [],
   "source": [
    "color_img =cv2.imread(\"profile.jpg\",cv2.IMREAD_COLOR)\n",
    "grey_image = cv2.imread(\"profile.jpg\",cv2.IMREAD_GRAYSCALE)\n",
    "\n",
    "cv2.imshow(\"image\",grey_image)\n",
    "\n",
    "\n",
    "key=cv2.waitKey(0) #Wait till window is close\n",
    "\n",
    "#Don't save the image if we press the esc(27) key\n",
    "#If we press s key then save the image\n",
    "if key==27:         \n",
    "    cv2.destroyAllWindows()\n",
    "elif key == ord('s'):\n",
    "    cv2.imwrite(\"grey_image.jpg\",grey_image)\n",
    "    cv2.destroyAllWindows()\n",
    "\n",
    "\n"
   ]
  },
  {
   "cell_type": "code",
   "execution_count": 4,
   "id": "42bfd8fb",
   "metadata": {},
   "outputs": [],
   "source": []
  }
 ],
 "metadata": {
  "kernelspec": {
   "display_name": "Python 3",
   "language": "python",
   "name": "python3"
  },
  "language_info": {
   "codemirror_mode": {
    "name": "ipython",
    "version": 3
   },
   "file_extension": ".py",
   "mimetype": "text/x-python",
   "name": "python",
   "nbconvert_exporter": "python",
   "pygments_lexer": "ipython3",
   "version": "3.9.5"
  }
 },
 "nbformat": 4,
 "nbformat_minor": 5
}
