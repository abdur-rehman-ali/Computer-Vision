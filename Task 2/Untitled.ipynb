{
 "cells": [
  {
   "cell_type": "markdown",
   "id": "85676bae",
   "metadata": {},
   "source": [
    "<h1>Draw geometric shape using openCV</h1>"
   ]
  },
  {
   "cell_type": "code",
   "execution_count": 2,
   "id": "20ab8b86",
   "metadata": {},
   "outputs": [],
   "source": [
    "import cv2\n",
    "import numpy as np"
   ]
  },
  {
   "cell_type": "code",
   "execution_count": 40,
   "id": "64c50124",
   "metadata": {},
   "outputs": [],
   "source": [
    "#It will make a black image\n",
    "img = np.ones((512,512,3), np.uint8)\n",
    "\n",
    "#Creating a line image\n",
    "start_point = (0,0)\n",
    "end_point = (512,512)\n",
    "thickness = 5\n",
    "color = (0,255,0)\n",
    "img = cv2.line(img,start_point,end_point,color,thickness)\n",
    "\n",
    "#creating arrow line on image\n",
    "img = cv2.arrowedLine(img,(255,0),(250,250),(255,0,0),10)\n",
    "\n",
    "\n",
    "\n",
    "#Creating an ellipse\n",
    "center_coordinates = (390, 100)\n",
    "axesLength = (100, 50)\n",
    "angle = 0\n",
    "startAngle = 0\n",
    "endAngle = 360\n",
    "color = (0, 0, 255)\n",
    "thickness = 5\n",
    "img = cv2.ellipse(img, center_coordinates, axesLength,\n",
    "           angle, startAngle, endAngle, color, thickness)\n",
    "\n",
    "\n",
    "#Creating a circle\n",
    "center_coordinates = (220, 400)\n",
    "radius = 60\n",
    "color = (255, 0, 0)\n",
    "thickness = 2\n",
    "img = cv2.circle(img, center_coordinates, radius, color, thickness)\n",
    "\n",
    "\n",
    "#Creating a rectangle\n",
    "start_point = (5, 5)\n",
    "end_point = (220, 220)\n",
    "color = (255, 0, 0)\n",
    "thickness = 2\n",
    "img = cv2.rectangle(img, start_point, end_point, color, thickness)\n",
    "\n",
    "#Creating a text string\n",
    "\n",
    "font = cv2.FONT_HERSHEY_PLAIN\n",
    "org = (350, 450)\n",
    "fontScale = 3\n",
    "color = (255, 0, 0)\n",
    "thickness = 2\n",
    "img = cv2.putText(image, 'Joiya', org, font, \n",
    "                   fontScale, color, thickness, cv2.LINE_AA)\n",
    "\n",
    "\n",
    "#Displaying image\n",
    "cv2.imshow(\"Black window\",img)\n",
    "\n",
    "#wait untill press escape key\n",
    "cv2.waitKey(0)\n",
    "\n",
    "#Destroy all  windows\n",
    "cv2.destroyAllWindows()"
   ]
  },
  {
   "cell_type": "code",
   "execution_count": null,
   "id": "f75a8b33",
   "metadata": {},
   "outputs": [],
   "source": []
  }
 ],
 "metadata": {
  "kernelspec": {
   "display_name": "Python 3",
   "language": "python",
   "name": "python3"
  },
  "language_info": {
   "codemirror_mode": {
    "name": "ipython",
    "version": 3
   },
   "file_extension": ".py",
   "mimetype": "text/x-python",
   "name": "python",
   "nbconvert_exporter": "python",
   "pygments_lexer": "ipython3",
   "version": "3.9.5"
  }
 },
 "nbformat": 4,
 "nbformat_minor": 5
}
