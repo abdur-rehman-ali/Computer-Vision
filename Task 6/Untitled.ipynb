{
 "cells": [
  {
   "cell_type": "code",
   "execution_count": 1,
   "id": "18166101",
   "metadata": {},
   "outputs": [],
   "source": [
    "import cv2 as cv\n",
    "import numpy as np"
   ]
  },
  {
   "cell_type": "markdown",
   "id": "e5e70dbc",
   "metadata": {},
   "source": [
    "<h1>Image read , write and show </h1>"
   ]
  },
  {
   "cell_type": "code",
   "execution_count": 2,
   "id": "3c6b7118",
   "metadata": {},
   "outputs": [],
   "source": [
    "img = cv.imread(\"layer-mask.jpg\",cv.IMREAD_COLOR)\n",
    "img = cv.imread(\"layer-mask.jpg\",cv.IMREAD_GRAYSCALE)\n",
    "\n",
    "cv.imshow(\"image\",img)\n",
    "cv.imwrite(\"grey.jpg\",img)\n",
    "\n",
    "cv.waitKey(0)\n",
    "cv.destroyAllWindows()"
   ]
  },
  {
   "cell_type": "markdown",
   "id": "80e2b58c",
   "metadata": {},
   "source": [
    "<h1>Geometric shapes</h1>"
   ]
  },
  {
   "cell_type": "code",
   "execution_count": 3,
   "id": "822287d7",
   "metadata": {},
   "outputs": [],
   "source": [
    "img = np.zeros([500,500,3],dtype=np.uint8)\n",
    "\n",
    "#Straight line\n",
    "cv.line(img,(30,30),(360,30),(255,0,0),5,cv.LINE_AA)\n",
    "\n",
    "#Arrowed line\n",
    "cv.arrowedLine(img,(30,60),(360,60),(0,255,0),5,cv.LINE_AA)\n",
    "\n",
    "#circle\n",
    "cv.circle(img,(200,100),26,(0,0,255),5,cv.LINE_4)\n",
    "\n",
    "#Ellipse\n",
    "cv.ellipse(img,(200,200),(100,60),0,0,360,(255,0,0),5,cv.LINE_8)\n",
    "\n",
    "#Rectangle\n",
    "cv.rectangle(img,(100,300),(400,400),(255,0,0),5,cv.LINE_8)\n",
    "\n",
    "#Put text on image\n",
    "cv.putText(img,\"ALI JOIYA\",(100,450),cv.FONT_HERSHEY_COMPLEX,1,(255,0,0),3,cv.LINE_4)\n",
    "\n",
    "cv.imshow(\"image\",img)\n",
    "\n",
    "cv.waitKey(0)\n",
    "cv.destroyAllWindows()"
   ]
  },
  {
   "cell_type": "markdown",
   "id": "3d9b51ab",
   "metadata": {},
   "source": [
    "<h1>Read , write and show video from camera</h1>"
   ]
  },
  {
   "cell_type": "code",
   "execution_count": 13,
   "id": "36a75a2b",
   "metadata": {},
   "outputs": [],
   "source": [
    "cap = cv.VideoCapture(0)\n",
    "fourcc= cv.VideoWriter_fourcc(*\"XVID\")\n",
    "out = cv.VideoWriter(\"output.avi\",fourcc,20.0,(640,480))\n",
    "\n",
    "\n",
    "while cap.isOpened():\n",
    "    ret,frame = cap.read()\n",
    "    \n",
    "    \n",
    "    if ret==True:\n",
    "        frame = cv.cvtColor(frame,cv.COLOR_BGR2GRAY)\n",
    "        cv.putText(frame,\"Ali joiya\",(250,250),cv.FONT_HERSHEY_PLAIN,1,(255,0,0),8,cv.LINE_4)\n",
    "        cv.imshow(\"video\",frame)\n",
    "        out.write(frame)\n",
    "        if cv.waitKey(1) & 0xFF==ord('q'):\n",
    "            break\n",
    "    else:\n",
    "        print(\"Error occured\")\n",
    "        break\n",
    "\n",
    "cap.release()\n",
    "out.release()\n",
    "cv.destroyAllWindows()"
   ]
  },
  {
   "cell_type": "markdown",
   "id": "d9440ccc",
   "metadata": {},
   "source": [
    "<h1>Mouse click events</h1>"
   ]
  },
  {
   "cell_type": "code",
   "execution_count": 20,
   "id": "e1b2c194",
   "metadata": {},
   "outputs": [
    {
     "name": "stdout",
     "output_type": "stream",
     "text": [
      "EVENT_FLAG_ALTKEY\n",
      "EVENT_FLAG_CTRLKEY\n",
      "EVENT_FLAG_LBUTTON\n",
      "EVENT_FLAG_MBUTTON\n",
      "EVENT_FLAG_RBUTTON\n",
      "EVENT_FLAG_SHIFTKEY\n",
      "EVENT_LBUTTONDBLCLK\n",
      "EVENT_LBUTTONDOWN\n",
      "EVENT_LBUTTONUP\n",
      "EVENT_MBUTTONDBLCLK\n",
      "EVENT_MBUTTONDOWN\n",
      "EVENT_MBUTTONUP\n",
      "EVENT_MOUSEHWHEEL\n",
      "EVENT_MOUSEMOVE\n",
      "EVENT_MOUSEWHEEL\n",
      "EVENT_RBUTTONDBLCLK\n",
      "EVENT_RBUTTONDOWN\n",
      "EVENT_RBUTTONUP\n"
     ]
    }
   ],
   "source": [
    "for i in dir(cv):\n",
    "    if 'EVENT' in i:\n",
    "        print(i)"
   ]
  },
  {
   "cell_type": "code",
   "execution_count": 13,
   "id": "afb73bc6",
   "metadata": {},
   "outputs": [],
   "source": [
    "def click_events(event,x,y,flags,param):\n",
    "    if event==cv.EVENT_LBUTTONDOWN:\n",
    "#         cv.circle(img,(x,y),10,(255,255,255),12,cv.LINE_AA)\n",
    "        text=\"X:\" + str(x) + \"  Y:\" + str(y)\n",
    "        cv.putText(img,text,(x,y),cv.FONT_HERSHEY_PLAIN,1,(255,255,255),2,cv.LINE_AA)\n",
    "        cv.imshow(\"image\",img)\n",
    "    elif event==cv.EVENT_LBUTTONDBLCLK:\n",
    "        points.append((x,y))\n",
    "        \n",
    "        \n",
    "\n",
    "points=[]\n",
    "img = np.ones([500,500,3],dtype=np.uint8)\n",
    "cv.imshow(\"image\",img)\n",
    "cv.setMouseCallback(\"image\",click_events)\n",
    "\n",
    "cv.waitKey(0)\n",
    "cv.destroyAllWindows()\n",
    "        "
   ]
  },
  {
   "cell_type": "code",
   "execution_count": 15,
   "id": "5ab93773",
   "metadata": {},
   "outputs": [
    {
     "data": {
      "text/plain": [
       "[(200, 200)]"
      ]
     },
     "execution_count": 15,
     "metadata": {},
     "output_type": "execute_result"
    }
   ],
   "source": [
    "points=[]\n",
    "points.append((200,200))\n",
    "points"
   ]
  },
  {
   "cell_type": "code",
   "execution_count": null,
   "id": "a80a367a",
   "metadata": {},
   "outputs": [],
   "source": []
  }
 ],
 "metadata": {
  "kernelspec": {
   "display_name": "Python 3",
   "language": "python",
   "name": "python3"
  },
  "language_info": {
   "codemirror_mode": {
    "name": "ipython",
    "version": 3
   },
   "file_extension": ".py",
   "mimetype": "text/x-python",
   "name": "python",
   "nbconvert_exporter": "python",
   "pygments_lexer": "ipython3",
   "version": "3.9.5"
  }
 },
 "nbformat": 4,
 "nbformat_minor": 5
}
