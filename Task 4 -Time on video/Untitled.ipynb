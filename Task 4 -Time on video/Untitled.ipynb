{
 "cells": [
  {
   "cell_type": "markdown",
   "id": "0f9a048a",
   "metadata": {},
   "source": [
    "<h1>Show date time on video</h1>"
   ]
  },
  {
   "cell_type": "code",
   "execution_count": 6,
   "id": "8f1c2f6c",
   "metadata": {},
   "outputs": [],
   "source": [
    "import cv2\n",
    "import datetime"
   ]
  },
  {
   "cell_type": "code",
   "execution_count": 8,
   "id": "0c3f0b97",
   "metadata": {},
   "outputs": [],
   "source": [
    "cap = cv2.VideoCapture(0)\n",
    "\n",
    "while True:\n",
    "    ret,frame = cap.read()\n",
    "    if ret==True:\n",
    "        \n",
    "        text=\"Abdur rehman ali\"\n",
    "        date=str(datetime.datetime.now())\n",
    "        org=(0,50)\n",
    "        font=cv2.FONT_HERSHEY_COMPLEX\n",
    "        fontScale=1\n",
    "        color=(255,0,0)\n",
    "        thickness = 3\n",
    "        linetype=cv2.LINE_AA\n",
    "        cv2.putText(frame,date,org,font,fontScale,color,thickness,linetype)\n",
    "        \n",
    "        cv2.imshow(\"Video\",frame)\n",
    "        \n",
    "        if cv2.waitKey(1) & 0xFF==ord('q'):\n",
    "            break;\n",
    "    \n",
    "    else:\n",
    "        print(\"something went wrong\")\n",
    "        break\n",
    "    \n",
    "cap.release()\n",
    "cv2.destroyAllWindows()"
   ]
  },
  {
   "cell_type": "code",
   "execution_count": null,
   "id": "7a856cd8",
   "metadata": {},
   "outputs": [],
   "source": []
  }
 ],
 "metadata": {
  "kernelspec": {
   "display_name": "Python 3",
   "language": "python",
   "name": "python3"
  },
  "language_info": {
   "codemirror_mode": {
    "name": "ipython",
    "version": 3
   },
   "file_extension": ".py",
   "mimetype": "text/x-python",
   "name": "python",
   "nbconvert_exporter": "python",
   "pygments_lexer": "ipython3",
   "version": "3.9.5"
  }
 },
 "nbformat": 4,
 "nbformat_minor": 5
}
