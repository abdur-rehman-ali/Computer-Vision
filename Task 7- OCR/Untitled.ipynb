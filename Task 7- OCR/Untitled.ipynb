{
 "cells": [
  {
   "cell_type": "code",
   "execution_count": 2,
   "id": "f53b0591",
   "metadata": {},
   "outputs": [],
   "source": [
    "import cv2 as cv\n",
    "import pytesseract "
   ]
  },
  {
   "cell_type": "markdown",
   "id": "eab1ed7b",
   "metadata": {},
   "source": [
    "<h1>Text detection basics</h1>"
   ]
  },
  {
   "cell_type": "code",
   "execution_count": 11,
   "id": "3a24df8b",
   "metadata": {},
   "outputs": [
    {
     "data": {
      "text/plain": [
       "-1"
      ]
     },
     "execution_count": 11,
     "metadata": {},
     "output_type": "execute_result"
    }
   ],
   "source": [
    "pytesseract.pytesseract.tesseract_cmd = \"C:\\\\Program Files\\\\Tesseract-OCR\\\\tesseract.exe\"\n",
    "\n",
    "img = cv.imread(\"img.png\")\n",
    "cv.cvtColor(img,cv.COLOR_RGB2BGR)\n",
    "cv.imshow(\"image\",img)\n",
    "\n",
    "hImg, wImg,_ = img.shape\n",
    "\n",
    "boxes=pytesseract.image_to_boxes(img)\n",
    "\n",
    "\n",
    "for b in boxes.splitlines():\n",
    "    b=b.split(' ')\n",
    "    x, y, w, h = int(b[1]), int(b[2]), int(b[3]), int(b[4])\n",
    "    cv.rectangle(img, (x,hImg- y), (w,hImg- h), (50, 50, 255), 2)\n",
    "    cv.putText(img,b[0],(x,hImg- y+25),cv.FONT_HERSHEY_SIMPLEX,1,(50,50,255),2)\n",
    "    cv.imshow(\"image\",img)\n",
    "\n",
    "\n",
    "cv.imshow(\"image\",img)\n",
    "cv.waitKey()"
   ]
  },
  {
   "cell_type": "markdown",
   "id": "c566bde3",
   "metadata": {},
   "source": [
    "<h1>Image to string</h1>"
   ]
  },
  {
   "cell_type": "code",
   "execution_count": 3,
   "id": "6e79041e",
   "metadata": {},
   "outputs": [
    {
     "name": "stdout",
     "output_type": "stream",
     "text": [
      "You're evil\n",
      "\n",
      "It's hot\n",
      "\f",
      "\n"
     ]
    },
    {
     "data": {
      "text/plain": [
       "-1"
      ]
     },
     "execution_count": 3,
     "metadata": {},
     "output_type": "execute_result"
    }
   ],
   "source": [
    "pytesseract.pytesseract.tesseract_cmd =  \"C:\\\\Program Files\\\\Tesseract-OCR\\\\tesseract.exe\"\n",
    "\n",
    "img = cv.imread(\"img.png\")\n",
    "cv.cvtColor(img,cv.COLOR_RGB2BGR)\n",
    "cv.imshow(\"image\",img)\n",
    "\n",
    "print(pytesseract.image_to_string(img))\n",
    "\n",
    "cv.waitKey(0)"
   ]
  },
  {
   "cell_type": "markdown",
   "id": "5b3a63eb",
   "metadata": {},
   "source": [
    "<h1>Detecting characters</h1>"
   ]
  },
  {
   "cell_type": "code",
   "execution_count": 4,
   "id": "608684be",
   "metadata": {},
   "outputs": [
    {
     "name": "stdout",
     "output_type": "stream",
     "text": [
      "Y 179 390 252 474 0\n",
      "['Y', '179', '390', '252', '474', '0']\n",
      "o 243 389 302 452 0\n",
      "['o', '243', '389', '302', '452', '0']\n",
      "u 251 389 354 474 0\n",
      "['u', '251', '389', '354', '474', '0']\n",
      "' 315 389 367 451 0\n",
      "[\"'\", '315', '389', '367', '451', '0']\n",
      "r 385 443 395 474 0\n",
      "['r', '385', '443', '395', '474', '0']\n",
      "e 413 389 502 452 0\n",
      "['e', '413', '389', '502', '452', '0']\n",
      "e 543 389 583 474 0\n",
      "['e', '543', '389', '583', '474', '0']\n",
      "v 543 389 598 452 0\n",
      "['v', '543', '389', '598', '452', '0']\n",
      "i 605 390 657 451 0\n",
      "['i', '605', '390', '657', '451', '0']\n",
      "l 669 390 705 474 0\n",
      "['l', '669', '390', '705', '474', '0']\n",
      "I 187 129 200 213 0\n",
      "['I', '187', '129', '200', '213', '0']\n",
      "t 210 129 243 209 0\n",
      "['t', '210', '129', '243', '209', '0']\n",
      "' 257 182 265 213 0\n",
      "[\"'\", '257', '182', '265', '213', '0']\n",
      "s 282 128 333 192 0\n",
      "['s', '282', '128', '333', '192', '0']\n",
      "h 377 129 428 213 0\n",
      "['h', '377', '129', '428', '213', '0']\n",
      "o 393 129 473 213 0\n",
      "['o', '393', '129', '473', '213', '0']\n",
      "t 439 129 536 209 0\n",
      "['t', '439', '129', '536', '209', '0']\n"
     ]
    },
    {
     "data": {
      "text/plain": [
       "-1"
      ]
     },
     "execution_count": 4,
     "metadata": {},
     "output_type": "execute_result"
    }
   ],
   "source": [
    "pytesseract.pytesseract.tesseract_cmd = \"C:\\\\Program Files\\\\Tesseract-OCR\\\\tesseract.exe\"\n",
    "\n",
    "img = cv.imread(\"img.png\")\n",
    "cv.cvtColor(img,cv.COLOR_BGR2RGB)\n",
    "cv.imshow(\"image\",img)\n",
    "\n",
    "hImg, wImg, _ = img.shape\n",
    "boxes = pytesseract.image_to_boxes(img)\n",
    "\n",
    "for b in boxes.splitlines():\n",
    "    print(b)\n",
    "    b = b.split(' ')\n",
    "    print(b)\n",
    "    x, y, w, h = int(b[1]), int(b[2]), int(b[3]), int(b[4])\n",
    "    cv.rectangle(img, (x,hImg- y), (w,hImg- h), (50, 50, 255), 2)\n",
    "\n",
    "\n",
    "cv.waitKey(0)\n"
   ]
  },
  {
   "cell_type": "code",
   "execution_count": null,
   "id": "c51f4601",
   "metadata": {},
   "outputs": [],
   "source": []
  }
 ],
 "metadata": {
  "kernelspec": {
   "display_name": "Python 3",
   "language": "python",
   "name": "python3"
  },
  "language_info": {
   "codemirror_mode": {
    "name": "ipython",
    "version": 3
   },
   "file_extension": ".py",
   "mimetype": "text/x-python",
   "name": "python",
   "nbconvert_exporter": "python",
   "pygments_lexer": "ipython3",
   "version": "3.9.5"
  }
 },
 "nbformat": 4,
 "nbformat_minor": 5
}
